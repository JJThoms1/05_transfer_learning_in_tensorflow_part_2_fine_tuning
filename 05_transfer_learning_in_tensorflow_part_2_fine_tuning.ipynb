{
  "nbformat": 4,
  "nbformat_minor": 0,
  "metadata": {
    "colab": {
      "provenance": [],
      "gpuType": "T4",
      "mount_file_id": "1W0uAcN7rNTY4MuL0k74i5ezQWSH71PX2",
      "authorship_tag": "ABX9TyN0CzpAw8DlaxiVpj05D+/z",
      "include_colab_link": true
    },
    "kernelspec": {
      "name": "python3",
      "display_name": "Python 3"
    },
    "language_info": {
      "name": "python"
    },
    "accelerator": "GPU"
  },
  "cells": [
    {
      "cell_type": "markdown",
      "metadata": {
        "id": "view-in-github",
        "colab_type": "text"
      },
      "source": [
        "<a href=\"https://colab.research.google.com/github/JJThoms1/05_transfer_learning_in_tensorflow_part_2_fine_tuning/blob/main/05_transfer_learning_in_tensorflow_part_2_fine_tuning.ipynb\" target=\"_parent\"><img src=\"https://colab.research.google.com/assets/colab-badge.svg\" alt=\"Open In Colab\"/></a>"
      ]
    },
    {
      "cell_type": "markdown",
      "source": [
        "# Transfer Learning with Tensorflow Part 2: Fine-Tuning\n",
        "\n",
        "In the previous notebook, we covered transfer learning feature extraction, now it's time to learn about a new kind of transfer learning: fine-tuning."
      ],
      "metadata": {
        "id": "-g4VfN1QbuRv"
      }
    },
    {
      "cell_type": "code",
      "source": [
        "# Check if we're using a GPU\n",
        "!nvidia-smi"
      ],
      "metadata": {
        "colab": {
          "base_uri": "https://localhost:8080/"
        },
        "id": "uEQXiok-cvvJ",
        "outputId": "a6f4768d-bae2-41d2-ccc2-ef7963d15dba"
      },
      "execution_count": 1,
      "outputs": [
        {
          "output_type": "stream",
          "name": "stdout",
          "text": [
            "Tue Oct  8 12:06:25 2024       \n",
            "+---------------------------------------------------------------------------------------+\n",
            "| NVIDIA-SMI 535.104.05             Driver Version: 535.104.05   CUDA Version: 12.2     |\n",
            "|-----------------------------------------+----------------------+----------------------+\n",
            "| GPU  Name                 Persistence-M | Bus-Id        Disp.A | Volatile Uncorr. ECC |\n",
            "| Fan  Temp   Perf          Pwr:Usage/Cap |         Memory-Usage | GPU-Util  Compute M. |\n",
            "|                                         |                      |               MIG M. |\n",
            "|=========================================+======================+======================|\n",
            "|   0  Tesla T4                       Off | 00000000:00:04.0 Off |                    0 |\n",
            "| N/A   46C    P8               9W /  70W |      0MiB / 15360MiB |      0%      Default |\n",
            "|                                         |                      |                  N/A |\n",
            "+-----------------------------------------+----------------------+----------------------+\n",
            "                                                                                         \n",
            "+---------------------------------------------------------------------------------------+\n",
            "| Processes:                                                                            |\n",
            "|  GPU   GI   CI        PID   Type   Process name                            GPU Memory |\n",
            "|        ID   ID                                                             Usage      |\n",
            "|=======================================================================================|\n",
            "|  No running processes found                                                           |\n",
            "+---------------------------------------------------------------------------------------+\n"
          ]
        }
      ]
    },
    {
      "cell_type": "markdown",
      "source": [
        "## Creating helper functions\n",
        "\n",
        "In previous notebooks, we've created a bunch of helper functions, now we could rewrite them all, however, this would be tedious.\n",
        "\n",
        "So, it's a good idea to put functions you'd like to use again in a script you can download and import into our notebooks (or elsewhere).\n",
        "\n",
        "We've done this for some of the functions we've used perviously here: https://raw.githubusercontent.com/mrdbourke/tensorflow-deep-learning/refs/heads/main/extras/helper_functions.py"
      ],
      "metadata": {
        "id": "PRMrNXN9dkn3"
      }
    },
    {
      "cell_type": "code",
      "source": [
        "!wget https://raw.githubusercontent.com/mrdbourke/tensorflow-deep-learning/main/extras/helper_functions.py"
      ],
      "metadata": {
        "colab": {
          "base_uri": "https://localhost:8080/"
        },
        "id": "g8hSyALPd9hs",
        "outputId": "2ab3b5b2-f2bc-4d87-93b4-25638e9c24a0"
      },
      "execution_count": 2,
      "outputs": [
        {
          "output_type": "stream",
          "name": "stdout",
          "text": [
            "--2024-10-08 12:06:25--  https://raw.githubusercontent.com/mrdbourke/tensorflow-deep-learning/main/extras/helper_functions.py\n",
            "Resolving raw.githubusercontent.com (raw.githubusercontent.com)... 185.199.108.133, 185.199.109.133, 185.199.110.133, ...\n",
            "Connecting to raw.githubusercontent.com (raw.githubusercontent.com)|185.199.108.133|:443... connected.\n",
            "HTTP request sent, awaiting response... 200 OK\n",
            "Length: 10246 (10K) [text/plain]\n",
            "Saving to: ‘helper_functions.py’\n",
            "\n",
            "helper_functions.py 100%[===================>]  10.01K  --.-KB/s    in 0s      \n",
            "\n",
            "2024-10-08 12:06:25 (105 MB/s) - ‘helper_functions.py’ saved [10246/10246]\n",
            "\n"
          ]
        }
      ]
    },
    {
      "cell_type": "code",
      "source": [
        "# Import helper functions we're going to use in this notebook\n",
        "from helper_functions import create_tensorboard_callback, plot_loss_curves, unzip_data, walk_through_dir"
      ],
      "metadata": {
        "id": "-nzaSptpfTlZ"
      },
      "execution_count": 3,
      "outputs": []
    },
    {
      "cell_type": "markdown",
      "source": [
        "> 🔑 **Note:** If you're running this notebook in Google Colab, when it times our colab will delete `helper_functions.py` so you'll have to redownload it if you want to access your helper functions."
      ],
      "metadata": {
        "id": "6yPVgGs0gsmR"
      }
    },
    {
      "cell_type": "markdown",
      "source": [
        "# Let's get some data\n",
        "\n",
        "This time we're going to see how we can use the pretrained models within tf.keras.applications. And apply the toward our own problem (recognizing images of food).\n",
        "\n",
        "link: https://www.tensorflow.org/api_docs/python/tf/keras/applications"
      ],
      "metadata": {
        "id": "Cha_V604gmSg"
      }
    },
    {
      "cell_type": "code",
      "source": [
        "# Get 10% of training data of 10 classes of Food101\n",
        "!wget https://storage.googleapis.com/ztm_tf_course/food_vision/10_food_classes_10_percent.zip\n",
        "\n",
        "unzip_data(\"10_food_classes_10_percent.zip\")"
      ],
      "metadata": {
        "colab": {
          "base_uri": "https://localhost:8080/"
        },
        "id": "jUtK_ZNSJsuo",
        "outputId": "0400240b-375f-40d1-dee0-e884cca5d9f0"
      },
      "execution_count": 4,
      "outputs": [
        {
          "output_type": "stream",
          "name": "stdout",
          "text": [
            "--2024-10-08 12:44:48--  https://storage.googleapis.com/ztm_tf_course/food_vision/10_food_classes_10_percent.zip\n",
            "Resolving storage.googleapis.com (storage.googleapis.com)... 74.125.197.207, 74.125.135.207, 142.250.107.207, ...\n",
            "Connecting to storage.googleapis.com (storage.googleapis.com)|74.125.197.207|:443... connected.\n",
            "HTTP request sent, awaiting response... 200 OK\n",
            "Length: 168546183 (161M) [application/zip]\n",
            "Saving to: ‘10_food_classes_10_percent.zip’\n",
            "\n",
            "10_food_classes_10_ 100%[===================>] 160.74M   149MB/s    in 1.1s    \n",
            "\n",
            "2024-10-08 12:44:49 (149 MB/s) - ‘10_food_classes_10_percent.zip’ saved [168546183/168546183]\n",
            "\n"
          ]
        }
      ]
    },
    {
      "cell_type": "code",
      "source": [
        "# Check out how many images and subdirectories are in our database\n",
        "walk_through_dir(\"10_food_classes_10_percent\")"
      ],
      "metadata": {
        "colab": {
          "base_uri": "https://localhost:8080/"
        },
        "id": "3h6ZNuVPKSMa",
        "outputId": "68ec836f-0081-4b0f-c670-021ec9587200"
      },
      "execution_count": 5,
      "outputs": [
        {
          "output_type": "stream",
          "name": "stdout",
          "text": [
            "There are 2 directories and 0 images in '10_food_classes_10_percent'.\n",
            "There are 10 directories and 0 images in '10_food_classes_10_percent/test'.\n",
            "There are 0 directories and 250 images in '10_food_classes_10_percent/test/ramen'.\n",
            "There are 0 directories and 250 images in '10_food_classes_10_percent/test/chicken_wings'.\n",
            "There are 0 directories and 250 images in '10_food_classes_10_percent/test/chicken_curry'.\n",
            "There are 0 directories and 250 images in '10_food_classes_10_percent/test/sushi'.\n",
            "There are 0 directories and 250 images in '10_food_classes_10_percent/test/pizza'.\n",
            "There are 0 directories and 250 images in '10_food_classes_10_percent/test/grilled_salmon'.\n",
            "There are 0 directories and 250 images in '10_food_classes_10_percent/test/ice_cream'.\n",
            "There are 0 directories and 250 images in '10_food_classes_10_percent/test/fried_rice'.\n",
            "There are 0 directories and 250 images in '10_food_classes_10_percent/test/steak'.\n",
            "There are 0 directories and 250 images in '10_food_classes_10_percent/test/hamburger'.\n",
            "There are 10 directories and 0 images in '10_food_classes_10_percent/train'.\n",
            "There are 0 directories and 75 images in '10_food_classes_10_percent/train/ramen'.\n",
            "There are 0 directories and 75 images in '10_food_classes_10_percent/train/chicken_wings'.\n",
            "There are 0 directories and 75 images in '10_food_classes_10_percent/train/chicken_curry'.\n",
            "There are 0 directories and 75 images in '10_food_classes_10_percent/train/sushi'.\n",
            "There are 0 directories and 75 images in '10_food_classes_10_percent/train/pizza'.\n",
            "There are 0 directories and 75 images in '10_food_classes_10_percent/train/grilled_salmon'.\n",
            "There are 0 directories and 75 images in '10_food_classes_10_percent/train/ice_cream'.\n",
            "There are 0 directories and 75 images in '10_food_classes_10_percent/train/fried_rice'.\n",
            "There are 0 directories and 75 images in '10_food_classes_10_percent/train/steak'.\n",
            "There are 0 directories and 75 images in '10_food_classes_10_percent/train/hamburger'.\n"
          ]
        }
      ]
    },
    {
      "cell_type": "code",
      "source": [
        "# Create training and test directory paths\n",
        "train_dir = \"10_food_classes_10_percent/train/\"\n",
        "test_dir = \"10_food_classes_10_percent/test/\""
      ],
      "metadata": {
        "id": "3Mj2iZLrKceJ"
      },
      "execution_count": 6,
      "outputs": []
    },
    {
      "cell_type": "code",
      "source": [
        "import tensorflow as tf\n",
        "IMG_SIZE = (224, 224)\n",
        "BATCH_SIZE = 32\n",
        "train_data_10_percent = tf.keras.preprocessing.image_dataset_from_directory(train_dir,\n",
        "                                                                            label_mode=\"categorical\",\n",
        "                                                                            image_size=IMG_SIZE,\n",
        "                                                                            batch_size=BATCH_SIZE)\n",
        "\n",
        "test_data = tf.keras.preprocessing.image_dataset_from_directory(test_dir,\n",
        "                                                                label_mode=\"categorical\",\n",
        "                                                                image_size=IMG_SIZE,\n",
        "                                                                batch_size=BATCH_SIZE)"
      ],
      "metadata": {
        "colab": {
          "base_uri": "https://localhost:8080/"
        },
        "id": "U7dQE8xYK5Rd",
        "outputId": "fe1b4d2a-5624-4806-b345-be1d357c05bb"
      },
      "execution_count": 7,
      "outputs": [
        {
          "output_type": "stream",
          "name": "stdout",
          "text": [
            "Found 750 files belonging to 10 classes.\n",
            "Found 2500 files belonging to 10 classes.\n"
          ]
        }
      ]
    },
    {
      "cell_type": "code",
      "source": [
        "train_data_10_percent"
      ],
      "metadata": {
        "colab": {
          "base_uri": "https://localhost:8080/"
        },
        "id": "x_YtNNJcRgAb",
        "outputId": "da4ed169-1a4e-4504-f524-d0ae6d03458f"
      },
      "execution_count": 8,
      "outputs": [
        {
          "output_type": "execute_result",
          "data": {
            "text/plain": [
              "<_PrefetchDataset element_spec=(TensorSpec(shape=(None, 224, 224, 3), dtype=tf.float32, name=None), TensorSpec(shape=(None, 10), dtype=tf.float32, name=None))>"
            ]
          },
          "metadata": {},
          "execution_count": 8
        }
      ]
    },
    {
      "cell_type": "code",
      "source": [
        "# Check out the class names of our dataset\n",
        "train_data_10_percent.class_names"
      ],
      "metadata": {
        "colab": {
          "base_uri": "https://localhost:8080/"
        },
        "id": "cbydQ5zDR9pv",
        "outputId": "ded852f9-8029-426c-be4d-11f7779e718a"
      },
      "execution_count": 9,
      "outputs": [
        {
          "output_type": "execute_result",
          "data": {
            "text/plain": [
              "['chicken_curry',\n",
              " 'chicken_wings',\n",
              " 'fried_rice',\n",
              " 'grilled_salmon',\n",
              " 'hamburger',\n",
              " 'ice_cream',\n",
              " 'pizza',\n",
              " 'ramen',\n",
              " 'steak',\n",
              " 'sushi']"
            ]
          },
          "metadata": {},
          "execution_count": 9
        }
      ]
    },
    {
      "cell_type": "code",
      "source": [
        "# See an example of a batch of data\n",
        "for images, labels in train_data_10_percent.take(1):\n",
        "  print(images, labels)"
      ],
      "metadata": {
        "colab": {
          "base_uri": "https://localhost:8080/"
        },
        "id": "pHOWwyK3Skvb",
        "outputId": "6e41a2e9-c9f3-4bb2-da8f-b1c7a9e24cf3"
      },
      "execution_count": 10,
      "outputs": [
        {
          "output_type": "stream",
          "name": "stdout",
          "text": [
            "tf.Tensor(\n",
            "[[[[3.00000000e+00 2.00000000e+00 0.00000000e+00]\n",
            "   [3.00000000e+00 2.00000000e+00 0.00000000e+00]\n",
            "   [3.00000000e+00 2.00000000e+00 0.00000000e+00]\n",
            "   ...\n",
            "   [0.00000000e+00 1.00000000e+01 4.20000000e+01]\n",
            "   [1.61034703e-01 1.01610346e+01 4.36747627e+01]\n",
            "   [3.57142806e-01 1.03571424e+01 4.62394905e+01]]\n",
            "\n",
            "  [[2.07142830e+00 1.07142830e+00 0.00000000e+00]\n",
            "   [2.07142830e+00 1.07142830e+00 0.00000000e+00]\n",
            "   [2.07142830e+00 1.07142830e+00 0.00000000e+00]\n",
            "   ...\n",
            "   [0.00000000e+00 1.10000000e+01 4.10121193e+01]\n",
            "   [3.22068334e-02 1.05813093e+01 4.16581688e+01]\n",
            "   [7.14282990e-02 1.00714283e+01 4.22857132e+01]]\n",
            "\n",
            "  [[2.00000000e+00 1.00000000e+00 0.00000000e+00]\n",
            "   [2.00000000e+00 1.00000000e+00 0.00000000e+00]\n",
            "   [2.00000000e+00 1.00000000e+00 0.00000000e+00]\n",
            "   ...\n",
            "   [0.00000000e+00 1.05714283e+01 3.63571434e+01]\n",
            "   [0.00000000e+00 1.01527386e+01 3.67436256e+01]\n",
            "   [0.00000000e+00 9.64285755e+00 3.72142868e+01]]\n",
            "\n",
            "  ...\n",
            "\n",
            "  [[1.03214264e+02 7.82142639e+01 2.42142639e+01]\n",
            "   [1.04312477e+02 7.82142639e+01 2.47633705e+01]\n",
            "   [1.06129440e+02 7.91294403e+01 2.61294422e+01]\n",
            "   ...\n",
            "   [7.19372330e+01 7.29372330e+01 1.49372358e+01]\n",
            "   [7.49241638e+01 7.59241638e+01 1.83750610e+01]\n",
            "   [7.65714722e+01 7.75714722e+01 2.05714722e+01]]\n",
            "\n",
            "  [[1.03142883e+02 7.81428833e+01 2.41428833e+01]\n",
            "   [1.03691994e+02 7.75937729e+01 2.41428833e+01]\n",
            "   [1.04992676e+02 7.79926758e+01 2.49926796e+01]\n",
            "   ...\n",
            "   [7.40848389e+01 7.40848389e+01 1.40848389e+01]\n",
            "   [7.50322113e+01 7.45813141e+01 1.59340076e+01]\n",
            "   [7.50714417e+01 7.40714417e+01 1.70714417e+01]]\n",
            "\n",
            "  [[1.04642822e+02 7.96428223e+01 2.56428223e+01]\n",
            "   [1.04995804e+02 7.88975830e+01 2.54466934e+01]\n",
            "   [1.05285645e+02 7.82856445e+01 2.52856445e+01]\n",
            "   ...\n",
            "   [7.50000000e+01 7.50000000e+01 1.50000000e+01]\n",
            "   [7.48066940e+01 7.43557968e+01 1.57084904e+01]\n",
            "   [7.45712891e+01 7.35712891e+01 1.65712891e+01]]]\n",
            "\n",
            "\n",
            " [[[9.82401123e+01 6.12401161e+01 3.34078445e+01]\n",
            "   [9.44585495e+01 5.55089302e+01 2.27946415e+01]\n",
            "   [9.83035736e+01 5.60261459e+01 1.77362900e+01]\n",
            "   ...\n",
            "   [7.44998474e+01 8.20713196e+01 8.32142639e+01]\n",
            "   [6.57055588e+01 7.07055588e+01 7.47055588e+01]\n",
            "   [5.33706741e+01 5.75973854e+01 6.59172592e+01]]\n",
            "\n",
            "  [[9.47889023e+01 5.95105247e+01 3.22413940e+01]\n",
            "   [8.92764664e+01 5.34059296e+01 2.15570774e+01]\n",
            "   [9.09563141e+01 5.06562500e+01 1.41696434e+01]\n",
            "   ...\n",
            "   [7.51943817e+01 8.04086456e+01 8.23621979e+01]\n",
            "   [6.52326736e+01 7.02326736e+01 7.42326736e+01]\n",
            "   [5.23316078e+01 5.53316078e+01 6.23316078e+01]]\n",
            "\n",
            "  [[9.57273636e+01 6.37448959e+01 3.67994270e+01]\n",
            "   [9.17579727e+01 5.84107132e+01 2.73507633e+01]\n",
            "   [8.65653763e+01 5.03140945e+01 1.22857151e+01]\n",
            "   ...\n",
            "   [7.25144577e+01 7.68017654e+01 7.93225403e+01]\n",
            "   [6.24510727e+01 6.59242859e+01 7.06876755e+01]\n",
            "   [6.58927612e+01 6.66025772e+01 7.43659744e+01]]\n",
            "\n",
            "  ...\n",
            "\n",
            "  [[2.00000000e+00 6.00000000e+00 7.00000000e+00]\n",
            "   [1.07142830e+00 5.07142830e+00 6.07142830e+00]\n",
            "   [2.21428585e+00 6.21428585e+00 7.21428585e+00]\n",
            "   ...\n",
            "   [4.68364372e+01 4.48364372e+01 3.28364372e+01]\n",
            "   [4.77633667e+01 4.57633667e+01 3.37633667e+01]\n",
            "   [4.77633667e+01 4.50000000e+01 3.52901001e+01]]\n",
            "\n",
            "  [[2.00000000e+00 6.00000000e+00 7.00000000e+00]\n",
            "   [1.07142830e+00 5.07142830e+00 6.07142830e+00]\n",
            "   [2.21428585e+00 6.21428585e+00 7.21428585e+00]\n",
            "   ...\n",
            "   [4.70000000e+01 4.50000000e+01 3.30000000e+01]\n",
            "   [4.69327011e+01 4.49327011e+01 3.29327011e+01]\n",
            "   [4.60580139e+01 4.40580139e+01 3.20580139e+01]]\n",
            "\n",
            "  [[2.00000000e+00 6.00000000e+00 7.00000000e+00]\n",
            "   [1.07142830e+00 5.07142830e+00 6.07142830e+00]\n",
            "   [2.21428585e+00 6.21428585e+00 7.21428585e+00]\n",
            "   ...\n",
            "   [4.58612976e+01 4.38612976e+01 3.18612995e+01]\n",
            "   [4.60000000e+01 4.40000000e+01 3.20000000e+01]\n",
            "   [4.50000000e+01 4.30000000e+01 3.10000000e+01]]]\n",
            "\n",
            "\n",
            " [[[8.20038300e+01 6.90038300e+01 3.48587379e+01]\n",
            "   [8.64977646e+01 7.30625000e+01 3.80625000e+01]\n",
            "   [8.20993347e+01 6.80993347e+01 3.16484375e+01]\n",
            "   ...\n",
            "   [1.04142204e+02 4.28280640e+01 5.18169823e+01]\n",
            "   [1.28102646e+02 4.90150108e+01 6.30663376e+01]\n",
            "   [1.34072784e+02 4.40885544e+01 6.08501587e+01]]\n",
            "\n",
            "  [[7.63405609e+01 6.33405609e+01 2.91954727e+01]\n",
            "   [8.96112823e+01 7.61760254e+01 4.03676643e+01]\n",
            "   [9.74735336e+01 8.34735336e+01 4.51655006e+01]\n",
            "   ...\n",
            "   [8.86562195e+01 3.16502495e+01 3.85130768e+01]\n",
            "   [1.15169121e+02 4.22268829e+01 5.20151405e+01]\n",
            "   [1.29320862e+02 4.27431259e+01 5.44943657e+01]]\n",
            "\n",
            "  [[7.54196396e+01 6.54196396e+01 3.02745552e+01]\n",
            "   [8.37833252e+01 7.29127884e+01 3.60422516e+01]\n",
            "   [1.06118622e+02 9.29786301e+01 5.40977325e+01]\n",
            "   ...\n",
            "   [7.12137299e+01 2.32274590e+01 2.59936600e+01]\n",
            "   [1.03907928e+02 4.28816643e+01 4.88035355e+01]\n",
            "   [1.14389587e+02 4.11045570e+01 4.67900009e+01]]\n",
            "\n",
            "  ...\n",
            "\n",
            "  [[1.18170834e+01 1.78170834e+01 1.58170834e+01]\n",
            "   [6.37993050e+00 1.23799305e+01 1.03799305e+01]\n",
            "   [2.54910755e+00 8.54910755e+00 6.54910755e+00]\n",
            "   ...\n",
            "   [6.08529472e+01 2.75041943e+01 6.50564337e+00]\n",
            "   [6.57597122e+01 3.05454445e+01 8.98746109e+00]\n",
            "   [7.44187622e+01 3.76778946e+01 1.13412676e+01]]\n",
            "\n",
            "  [[1.53248712e-01 6.15324879e+00 4.15324879e+00]\n",
            "   [5.87400258e-01 6.58740044e+00 4.58740044e+00]\n",
            "   [3.04047203e+00 9.04047203e+00 7.04047203e+00]\n",
            "   ...\n",
            "   [5.35812874e+01 2.46527290e+01 8.83483887e+00]\n",
            "   [5.70260887e+01 2.70891113e+01 9.07562065e+00]\n",
            "   [6.02914963e+01 2.87223721e+01 4.66225290e+00]]\n",
            "\n",
            "  [[2.66429186e+00 8.05358124e+00 6.05358171e+00]\n",
            "   [8.80334377e+00 1.48033438e+01 1.28033438e+01]\n",
            "   [9.01862144e+00 1.50186214e+01 1.30186214e+01]\n",
            "   ...\n",
            "   [5.48038826e+01 2.85644016e+01 1.65336552e+01]\n",
            "   [5.35192070e+01 2.81554699e+01 1.49427967e+01]\n",
            "   [5.49435921e+01 2.88548889e+01 9.08273315e+00]]]\n",
            "\n",
            "\n",
            " ...\n",
            "\n",
            "\n",
            " [[[9.96428604e+01 4.36428566e+01 2.66428566e+01]\n",
            "   [1.00974487e+02 4.49744911e+01 2.79744892e+01]\n",
            "   [1.00928566e+02 4.55714302e+01 2.83571434e+01]\n",
            "   ...\n",
            "   [1.59892273e+02 1.26616730e+02 9.66270294e+01]\n",
            "   [9.49591599e+01 5.68213806e+01 3.52959061e+01]\n",
            "   [8.11578674e+01 3.91578674e+01 2.31578693e+01]]\n",
            "\n",
            "  [[9.77397995e+01 4.17397957e+01 2.47397957e+01]\n",
            "   [9.90051041e+01 4.30051041e+01 2.60051022e+01]\n",
            "   [1.00770409e+02 4.54132690e+01 2.81989803e+01]\n",
            "   ...\n",
            "   [6.65968018e+01 3.01681900e+01 2.42336082e+00]\n",
            "   [6.98725586e+01 2.89388580e+01 9.08175468e+00]\n",
            "   [8.22501984e+01 3.64389687e+01 2.14440765e+01]]\n",
            "\n",
            "  [[1.03571426e+02 4.71428566e+01 3.23571434e+01]\n",
            "   [1.00071426e+02 4.40714264e+01 2.90714283e+01]\n",
            "   [9.82602081e+01 4.22602043e+01 2.72602043e+01]\n",
            "   ...\n",
            "   [8.19692001e+01 4.12548027e+01 1.43263178e+01]\n",
            "   [8.23265686e+01 3.61989899e+01 1.27245321e+01]\n",
            "   [8.15460205e+01 3.23317337e+01 1.40460205e+01]]\n",
            "\n",
            "  ...\n",
            "\n",
            "  [[7.69943161e+01 4.02750015e+01 7.95883179e+00]\n",
            "   [1.49617050e+02 1.07101807e+02 6.84590378e+01]\n",
            "   [1.72382751e+02 1.23142990e+02 7.40257111e+01]\n",
            "   ...\n",
            "   [1.24050819e+02 1.10096733e+02 6.00713196e+01]\n",
            "   [1.25897758e+02 1.11469231e+02 6.21835861e+01]\n",
            "   [1.36408173e+02 1.21979645e+02 7.45511169e+01]]\n",
            "\n",
            "  [[5.31785240e+01 2.17499924e+01 2.08678961e+00]\n",
            "   [8.83721466e+01 5.16629753e+01 2.31681156e+01]\n",
            "   [1.69887405e+02 1.21387421e+02 8.01731873e+01]\n",
            "   ...\n",
            "   [1.03188866e+02 9.80715027e+01 4.75154610e+01]\n",
            "   [1.07494804e+02 9.97652588e+01 5.28469086e+01]\n",
            "   [1.18214325e+02 1.07500092e+02 6.25715332e+01]]\n",
            "\n",
            "  [[4.53569336e+01 1.83263817e+01 7.04070187e+00]\n",
            "   [5.42549515e+01 2.05866871e+01 1.83662802e-01]\n",
            "   [1.09019783e+02 6.42289886e+01 2.82239151e+01]\n",
            "   ...\n",
            "   [9.87245026e+01 9.85969162e+01 4.91582108e+01]\n",
            "   [8.90457077e+01 8.59538651e+01 4.18059921e+01]\n",
            "   [9.70410385e+01 9.20410385e+01 5.07553978e+01]]]\n",
            "\n",
            "\n",
            " [[[1.45887756e+02 1.21887756e+02 7.71734695e+01]\n",
            "   [1.43647964e+02 1.17719391e+02 8.04795914e+01]\n",
            "   [1.51015305e+02 1.21801025e+02 9.25051041e+01]\n",
            "   ...\n",
            "   [5.64539566e+01 2.92396927e+01 1.96734238e+01]\n",
            "   [6.19335556e+01 3.70049973e+01 3.24080696e+01]\n",
            "   [5.17402878e+01 2.77402859e+01 2.44545727e+01]]\n",
            "\n",
            "  [[1.42785706e+02 1.17857147e+02 7.66428604e+01]\n",
            "   [1.39071426e+02 1.13076530e+02 7.77857208e+01]\n",
            "   [1.48872452e+02 1.18928574e+02 9.12448959e+01]\n",
            "   ...\n",
            "   [6.09232826e+01 3.27804451e+01 2.12805099e+01]\n",
            "   [5.86274567e+01 3.19029903e+01 2.31887302e+01]\n",
            "   [5.03879395e+01 2.61941280e+01 1.89338913e+01]]\n",
            "\n",
            "  [[1.39494904e+02 1.13494896e+02 7.69234695e+01]\n",
            "   [1.41515305e+02 1.15515305e+02 8.23724518e+01]\n",
            "   [1.44770401e+02 1.14770409e+02 8.91989746e+01]\n",
            "   ...\n",
            "   [7.39590073e+01 4.41937370e+01 2.73366356e+01]\n",
            "   [6.73112030e+01 3.90969162e+01 2.62703915e+01]\n",
            "   [5.89181061e+01 3.10609989e+01 1.94181423e+01]]\n",
            "\n",
            "  ...\n",
            "\n",
            "  [[2.04147980e+02 1.55147980e+02 1.23147972e+02]\n",
            "   [2.01928589e+02 1.55928589e+02 1.22928589e+02]\n",
            "   [1.98214310e+02 1.53214310e+02 1.20214310e+02]\n",
            "   ...\n",
            "   [2.10306076e+02 1.64351990e+02 1.38214264e+02]\n",
            "   [2.09729599e+02 1.64729599e+02 1.35617340e+02]\n",
            "   [2.07428558e+02 1.62428558e+02 1.31857086e+02]]\n",
            "\n",
            "  [[2.02290817e+02 1.53290817e+02 1.21290817e+02]\n",
            "   [2.00857101e+02 1.54857101e+02 1.21857101e+02]\n",
            "   [1.99698959e+02 1.54698959e+02 1.21698952e+02]\n",
            "   ...\n",
            "   [2.08943924e+02 1.62943924e+02 1.36943924e+02]\n",
            "   [2.08780579e+02 1.63785675e+02 1.32499908e+02]\n",
            "   [2.07811188e+02 1.63214294e+02 1.29357056e+02]]\n",
            "\n",
            "  [[2.02484665e+02 1.53484665e+02 1.20484673e+02]\n",
            "   [1.96377579e+02 1.50377579e+02 1.16377579e+02]\n",
            "   [2.00642990e+02 1.56642990e+02 1.21642998e+02]\n",
            "   ...\n",
            "   [2.09285645e+02 1.63285645e+02 1.37285645e+02]\n",
            "   [2.05025513e+02 1.60096954e+02 1.26903038e+02]\n",
            "   [2.07326691e+02 1.63326691e+02 1.25612328e+02]]]\n",
            "\n",
            "\n",
            " [[[4.74132652e+01 2.04132652e+01 1.14132652e+01]\n",
            "   [4.89285736e+01 2.19285717e+01 1.29285717e+01]\n",
            "   [5.00000000e+01 2.30000000e+01 1.40000000e+01]\n",
            "   ...\n",
            "   [9.94862139e-01 2.99486208e+00 2.75482178e-01]\n",
            "   [2.14287019e+00 3.78572750e+00 2.55148765e-02]\n",
            "   [2.99996519e+00 3.99996519e+00 0.00000000e+00]]\n",
            "\n",
            "  [[4.69744911e+01 1.99744892e+01 1.29744902e+01]\n",
            "   [4.88622475e+01 2.18622456e+01 1.48622456e+01]\n",
            "   [4.89846954e+01 2.19846935e+01 1.49846935e+01]\n",
            "   ...\n",
            "   [1.68881440e+00 2.87246919e+00 3.06091160e-02]\n",
            "   [3.85714293e+00 4.85714293e+00 0.00000000e+00]\n",
            "   [2.52547789e+00 3.52547789e+00 0.00000000e+00]]\n",
            "\n",
            "  [[4.61377563e+01 1.91377544e+01 1.21377554e+01]\n",
            "   [4.80000000e+01 2.10000000e+01 1.40000000e+01]\n",
            "   [4.80000000e+01 2.10000000e+01 1.40000000e+01]\n",
            "   ...\n",
            "   [3.99997807e+00 4.78571415e+00 5.96878052e-01]\n",
            "   [2.00000000e+00 3.00000000e+00 0.00000000e+00]\n",
            "   [4.42349625e+00 3.85206795e+00 2.80639589e-01]]\n",
            "\n",
            "  ...\n",
            "\n",
            "  [[1.60362167e+02 1.60576462e+02 1.61005051e+02]\n",
            "   [1.64510162e+02 1.66295868e+02 1.65938751e+02]\n",
            "   [1.59306152e+02 1.63642868e+02 1.62903091e+02]\n",
            "   ...\n",
            "   [1.31168381e+02 1.22168381e+02 1.15168381e+02]\n",
            "   [1.30928558e+02 1.21928558e+02 1.14928558e+02]\n",
            "   [1.27923462e+02 1.18923462e+02 1.11923462e+02]]\n",
            "\n",
            "  [[1.56357193e+02 1.56428604e+02 1.58428604e+02]\n",
            "   [1.60147934e+02 1.60219345e+02 1.62219345e+02]\n",
            "   [1.60882645e+02 1.59311111e+02 1.62168289e+02]\n",
            "   ...\n",
            "   [1.31056107e+02 1.22056107e+02 1.15056107e+02]\n",
            "   [1.30928558e+02 1.21928558e+02 1.14928558e+02]\n",
            "   [1.27974495e+02 1.18974495e+02 1.11974495e+02]]\n",
            "\n",
            "  [[1.56025497e+02 1.54025497e+02 1.55739792e+02]\n",
            "   [1.57010208e+02 1.55010208e+02 1.56724503e+02]\n",
            "   [1.64520401e+02 1.61448959e+02 1.63520401e+02]\n",
            "   ...\n",
            "   [1.31137741e+02 1.22137741e+02 1.15137741e+02]\n",
            "   [1.29928558e+02 1.20928558e+02 1.13928558e+02]\n",
            "   [1.28872437e+02 1.19872437e+02 1.12872437e+02]]]], shape=(32, 224, 224, 3), dtype=float32) tf.Tensor(\n",
            "[[0. 0. 0. 0. 0. 1. 0. 0. 0. 0.]\n",
            " [0. 0. 0. 0. 0. 0. 0. 1. 0. 0.]\n",
            " [0. 0. 0. 0. 0. 0. 0. 0. 0. 1.]\n",
            " [0. 0. 0. 0. 0. 0. 0. 0. 0. 1.]\n",
            " [0. 1. 0. 0. 0. 0. 0. 0. 0. 0.]\n",
            " [0. 0. 1. 0. 0. 0. 0. 0. 0. 0.]\n",
            " [0. 0. 0. 1. 0. 0. 0. 0. 0. 0.]\n",
            " [0. 0. 0. 0. 0. 0. 0. 0. 0. 1.]\n",
            " [0. 0. 0. 1. 0. 0. 0. 0. 0. 0.]\n",
            " [0. 0. 0. 0. 0. 1. 0. 0. 0. 0.]\n",
            " [0. 0. 1. 0. 0. 0. 0. 0. 0. 0.]\n",
            " [0. 0. 0. 0. 0. 0. 1. 0. 0. 0.]\n",
            " [0. 0. 0. 0. 0. 1. 0. 0. 0. 0.]\n",
            " [1. 0. 0. 0. 0. 0. 0. 0. 0. 0.]\n",
            " [0. 0. 1. 0. 0. 0. 0. 0. 0. 0.]\n",
            " [0. 0. 0. 0. 0. 1. 0. 0. 0. 0.]\n",
            " [0. 0. 0. 1. 0. 0. 0. 0. 0. 0.]\n",
            " [0. 0. 0. 0. 0. 1. 0. 0. 0. 0.]\n",
            " [0. 0. 1. 0. 0. 0. 0. 0. 0. 0.]\n",
            " [0. 0. 0. 0. 1. 0. 0. 0. 0. 0.]\n",
            " [0. 0. 0. 0. 0. 1. 0. 0. 0. 0.]\n",
            " [0. 0. 0. 0. 1. 0. 0. 0. 0. 0.]\n",
            " [0. 1. 0. 0. 0. 0. 0. 0. 0. 0.]\n",
            " [0. 1. 0. 0. 0. 0. 0. 0. 0. 0.]\n",
            " [0. 0. 1. 0. 0. 0. 0. 0. 0. 0.]\n",
            " [1. 0. 0. 0. 0. 0. 0. 0. 0. 0.]\n",
            " [0. 0. 0. 0. 1. 0. 0. 0. 0. 0.]\n",
            " [0. 0. 0. 0. 0. 0. 0. 0. 0. 1.]\n",
            " [0. 0. 0. 0. 0. 0. 0. 1. 0. 0.]\n",
            " [0. 0. 0. 0. 0. 0. 0. 1. 0. 0.]\n",
            " [0. 0. 0. 0. 0. 0. 0. 0. 1. 0.]\n",
            " [0. 0. 0. 0. 1. 0. 0. 0. 0. 0.]], shape=(32, 10), dtype=float32)\n"
          ]
        }
      ]
    },
    {
      "cell_type": "code",
      "source": [],
      "metadata": {
        "id": "RN3uQjN_TCXc"
      },
      "execution_count": null,
      "outputs": []
    }
  ]
}